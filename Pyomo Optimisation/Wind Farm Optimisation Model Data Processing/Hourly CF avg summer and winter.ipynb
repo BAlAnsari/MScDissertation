{
 "cells": [
  {
   "cell_type": "code",
   "execution_count": 1,
   "metadata": {},
   "outputs": [],
   "source": [
    "import pandas as pd\n",
    "import numpy as np\n",
    "import matplotlib.pyplot as plt\n",
    "import os\n"
   ]
  },
  {
   "cell_type": "code",
   "execution_count": 2,
   "metadata": {},
   "outputs": [],
   "source": [
    "pathName = os.getcwd()\n",
    "fileNames = os.listdir(pathName)\n",
    "numFiles = []\n",
    "\n",
    "for fileNames in fileNames:\n",
    "    if fileNames.endswith(\".csv\"):\n",
    "        numFiles.append(fileNames)"
   ]
  },
  {
   "cell_type": "code",
   "execution_count": 3,
   "metadata": {},
   "outputs": [],
   "source": [
    "for f, file in enumerate(numFiles):\n",
    "    t = pd.read_csv(file, skiprows = 3, usecols = ['local_time','electricity'],\\\n",
    "                    parse_dates = ['local_time'],\\\n",
    "                    infer_datetime_format = True, dayfirst = True)"
   ]
  },
  {
   "cell_type": "code",
   "execution_count": 4,
   "metadata": {},
   "outputs": [],
   "source": [
    "Average_capacities = pd.DataFrame()\n",
    "for f, file in enumerate(numFiles):\n",
    "    \n",
    "    site_name = file[:-4]\n",
    "    df = pd.read_csv(file, skiprows = 3, usecols = ['local_time','electricity'], parse_dates = ['local_time'],\\\n",
    "                     infer_datetime_format = True, dayfirst = True)\n",
    "    #df['Hour'] = df.Time.dt.hour\n",
    "    df['Hour'] = df.local_time.dt.hour\n",
    "    august_mask = (df['local_time'] >= '2019-8-1') & (df['local_time'] < '2019-9-1')\n",
    "    august_cf = df.loc[august_mask]\n",
    "    \n",
    "    jan_mask = (df['local_time'] >= '2019-1-1') & (df['local_time'] < '2019-2-1')\n",
    "    jan_cf = df.loc[jan_mask]\n",
    "    \n",
    "    august_capacities  = august_cf.groupby('Hour').mean()['electricity']\n",
    "    jan_capacities  = jan_cf.groupby('Hour').mean()['electricity']\n",
    "    \n",
    "    august_capacities = august_capacities.rename(site_name + ' August CF')\n",
    "    jan_capacities = jan_capacities.rename(site_name + ' Jan CF')\n",
    "    \n",
    "    Hourly_average_capacities = pd.concat([august_capacities, jan_capacities], axis=1)\n",
    "    Average_capacities = pd.concat([Average_capacities, Hourly_average_capacities], axis = 1)\n",
    "Average_capacities.to_csv('Average Capacities Summer Winter.csv')"
   ]
  },
  {
   "cell_type": "code",
   "execution_count": null,
   "metadata": {},
   "outputs": [],
   "source": []
  }
 ],
 "metadata": {
  "kernelspec": {
   "display_name": "Python 3",
   "language": "python",
   "name": "python3"
  },
  "language_info": {
   "codemirror_mode": {
    "name": "ipython",
    "version": 3
   },
   "file_extension": ".py",
   "mimetype": "text/x-python",
   "name": "python",
   "nbconvert_exporter": "python",
   "pygments_lexer": "ipython3",
   "version": "3.8.3"
  }
 },
 "nbformat": 4,
 "nbformat_minor": 4
}
